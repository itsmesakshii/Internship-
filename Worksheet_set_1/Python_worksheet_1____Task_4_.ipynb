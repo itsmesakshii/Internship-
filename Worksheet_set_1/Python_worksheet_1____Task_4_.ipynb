{
  "nbformat": 4,
  "nbformat_minor": 0,
  "metadata": {
    "colab": {
      "provenance": []
    },
    "kernelspec": {
      "name": "python3",
      "display_name": "Python 3"
    },
    "language_info": {
      "name": "python"
    }
  },
  "cells": [
    {
      "cell_type": "markdown",
      "source": [
        "**Answerbook Fliprobo || Python Worksheet - 1 || Task-4**\n",
        "\n",
        "**Batch** - DS2406\n",
        "\n",
        "**Name** - Sakshi Jha"
      ],
      "metadata": {
        "id": "7FMmZxlCe9AH"
      }
    },
    {
      "cell_type": "markdown",
      "source": [
        "#Answers for Question 11-15"
      ],
      "metadata": {
        "id": "znPQxHQgoYZ9"
      }
    },
    {
      "cell_type": "code",
      "execution_count": 1,
      "metadata": {
        "colab": {
          "base_uri": "https://localhost:8080/"
        },
        "id": "XmpBreU3e7MF",
        "outputId": "a3ea1f80-64ad-44e4-e69d-a6b08182dead"
      },
      "outputs": [
        {
          "output_type": "stream",
          "name": "stdout",
          "text": [
            "Enter a number to find its factorial: 32\n",
            "The factorial of 32 is 263130836933693530167218012160000000\n"
          ]
        }
      ],
      "source": [
        "# Answer-11\n",
        "\n",
        "def factorial_iterative(n):\n",
        "    result = 1\n",
        "    for i in range(1, n + 1):\n",
        "        result *= i\n",
        "    return result\n",
        "\n",
        "# Test the function\n",
        "number = int(input(\"Enter a number to find its factorial: \"))\n",
        "print(f\"The factorial of {number} is {factorial_iterative(number)}\")"
      ]
    },
    {
      "cell_type": "code",
      "source": [
        "# Answer - 12\n",
        "\n",
        "import sys\n",
        "\n",
        "# Function to check if a number is prime\n",
        "def is_prime(n):\n",
        "    if n <= 1:\n",
        "        return False\n",
        "    if n <= 3:\n",
        "        return True\n",
        "    if n % 2 == 0 or n % 3 == 0:\n",
        "        return False\n",
        "    i = 5\n",
        "    while i * i <= n:\n",
        "        if n % i == 0 or n % (i + 2) == 0:\n",
        "            return False\n",
        "        i += 6\n",
        "    return True\n",
        "\n",
        "# Main function\n",
        "def main():\n",
        "    # User input\n",
        "    number = int(input(\"Enter a number to find whether it is prime or composite: \"))\n",
        "\n",
        "    # Check and display whether the number is prime or composite\n",
        "    if number <= 1:\n",
        "        print(f\"{number} is neither prime nor composite.\")\n",
        "    elif is_prime(number):\n",
        "        print(f\"{number} is a prime number.\")\n",
        "    else:\n",
        "        print(f\"{number} is a composite number.\")\n",
        "\n",
        "# Entry point of the script\n",
        "if __name__ == \"__main__\":\n",
        "    main()"
      ],
      "metadata": {
        "colab": {
          "base_uri": "https://localhost:8080/"
        },
        "id": "cdSbnIbtgV44",
        "outputId": "4ce882ff-a22f-46f1-8130-f76ca81219e4"
      },
      "execution_count": 2,
      "outputs": [
        {
          "output_type": "stream",
          "name": "stdout",
          "text": [
            "Enter a number to find whether it is prime or composite: 4\n",
            "4 is a composite number.\n"
          ]
        }
      ]
    },
    {
      "cell_type": "code",
      "source": [
        "# Answer - 13\n",
        "\n",
        "import re\n",
        "\n",
        "# Function to check if a string is a palindrome\n",
        "def is_palindrome(s):\n",
        "    # Convert string to lowercase and remove non-alphanumeric characters using regex\n",
        "    s = re.sub(r'[^A-Za-z0-9]', '', s).lower()\n",
        "    # Compare the string with its reverse\n",
        "    return s == s[::-1]\n",
        "\n",
        "# Main function\n",
        "def main():\n",
        "    # User input\n",
        "    input_string = input(\"Enter a string to check if it is a palindrome: \")\n",
        "\n",
        "    # Check and display whether the string is a palindrome\n",
        "    if is_palindrome(input_string):\n",
        "        print(f\"'{input_string}' is a palindrome.\")\n",
        "    else:\n",
        "        print(f\"'{input_string}' is not a palindrome.\")\n",
        "\n",
        "# Entry point of the script\n",
        "if __name__ == \"__main__\":\n",
        "    main()"
      ],
      "metadata": {
        "colab": {
          "base_uri": "https://localhost:8080/"
        },
        "id": "YBzQ7iAMgVvd",
        "outputId": "13aa6f05-a274-4148-813c-17a149942c6e"
      },
      "execution_count": 4,
      "outputs": [
        {
          "output_type": "stream",
          "name": "stdout",
          "text": [
            "Enter a string to check if it is a palindrome: kawak\n",
            "'kawak' is a palindrome.\n"
          ]
        }
      ]
    },
    {
      "cell_type": "code",
      "source": [
        "# Answer - 14\n",
        "\n",
        "import math\n",
        "\n",
        "# Function to calculate the third side of a right-angled triangle\n",
        "def calculate_third_side(side1, side2, is_hypotenuse=False):\n",
        "    if is_hypotenuse:\n",
        "        # Calculate the other side when the hypotenuse is given\n",
        "        if side1 <= side2:\n",
        "            raise ValueError(\"For the hypotenuse calculation, the hypotenuse should be the larger value.\")\n",
        "        return math.sqrt(side1**2 - side2**2)\n",
        "    else:\n",
        "        # Calculate the hypotenuse\n",
        "        return math.sqrt(side1**2 + side2**2)\n",
        "\n",
        "# Main function\n",
        "def main():\n",
        "    print(\"Choose the type of calculation:\")\n",
        "    print(\"1. Calculate the hypotenuse\")\n",
        "    print(\"2. Calculate the other side given the hypotenuse\")\n",
        "\n",
        "    choice = input(\"Enter 1 or 2: \")\n",
        "\n",
        "    if choice == '1':\n",
        "        # User inputs for calculating the hypotenuse\n",
        "        side1 = float(input(\"Enter the length of one side: \"))\n",
        "        side2 = float(input(\"Enter the length of the other side: \"))\n",
        "        hypotenuse = calculate_third_side(side1, side2)\n",
        "        print(f\"The length of the hypotenuse is: {hypotenuse}\")\n",
        "    elif choice == '2':\n",
        "        # User inputs for calculating the other side\n",
        "        hypotenuse = float(input(\"Enter the length of the hypotenuse: \"))\n",
        "        side = float(input(\"Enter the length of one other side: \"))\n",
        "        other_side = calculate_third_side(hypotenuse, side, is_hypotenuse=True)\n",
        "        print(f\"The length of the other side is: {other_side}\")\n",
        "    else:\n",
        "        print(\"Invalid choice. Please run the program again and enter 1 or 2.\")\n",
        "\n",
        "# Entry point of the script\n",
        "if __name__ == \"__main__\":\n",
        "    main()"
      ],
      "metadata": {
        "colab": {
          "base_uri": "https://localhost:8080/"
        },
        "id": "fFKLdjDtgVk_",
        "outputId": "f4668e1d-62da-4754-c6f0-573025d30f9e"
      },
      "execution_count": 6,
      "outputs": [
        {
          "output_type": "stream",
          "name": "stdout",
          "text": [
            "Choose the type of calculation:\n",
            "1. Calculate the hypotenuse\n",
            "2. Calculate the other side given the hypotenuse\n",
            "Enter 1 or 2: 1\n",
            "Enter the length of one side: 4\n",
            "Enter the length of the other side: 3\n",
            "The length of the hypotenuse is: 5.0\n"
          ]
        }
      ]
    },
    {
      "cell_type": "code",
      "source": [
        "# Answer - 15\n",
        "\n",
        "def calculate_character_frequency(input_string):\n",
        "    # Initialize an empty dictionary to store frequencies\n",
        "    frequency_dict = {}\n",
        "\n",
        "    # Iterate through each character in the string\n",
        "    for char in input_string:\n",
        "        if char in frequency_dict:\n",
        "            frequency_dict[char] += 1\n",
        "        else:\n",
        "            frequency_dict[char] = 1\n",
        "\n",
        "    return frequency_dict\n",
        "\n",
        "# Main function\n",
        "def main():\n",
        "    # User input\n",
        "    input_string = input(\"Enter a string: \")\n",
        "\n",
        "    # Calculate character frequencies\n",
        "    frequency_dict = calculate_character_frequency(input_string)\n",
        "\n",
        "    # Print the frequencies\n",
        "    print(\"Character frequencies:\")\n",
        "    for char, freq in frequency_dict.items():\n",
        "        print(f\"'{char}' : {freq}\")\n",
        "\n",
        "# Entry point of the script\n",
        "if __name__ == \"__main__\":\n",
        "    main()"
      ],
      "metadata": {
        "colab": {
          "base_uri": "https://localhost:8080/"
        },
        "id": "jRd7YxeogVXu",
        "outputId": "a5cc5a29-923e-430d-84ff-09f227ea1903"
      },
      "execution_count": 7,
      "outputs": [
        {
          "output_type": "stream",
          "name": "stdout",
          "text": [
            "Enter a string: ALphabet\n",
            "Character frequencies:\n",
            "'A' : 1\n",
            "'L' : 1\n",
            "'p' : 1\n",
            "'h' : 1\n",
            "'a' : 1\n",
            "'b' : 1\n",
            "'e' : 1\n",
            "'t' : 1\n"
          ]
        }
      ]
    }
  ]
}